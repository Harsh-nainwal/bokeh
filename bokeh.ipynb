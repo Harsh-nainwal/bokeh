{
 "cells": [
  {
   "cell_type": "markdown",
   "id": "41bba295-9a8c-440c-9516-787e6f461b31",
   "metadata": {},
   "source": [
    "Q1. How can you create a Bokeh plot using Python code?\n",
    "\n",
    "Ans:-\n",
    "Bokeh is a Python library for creating interactive visualizations in web browsers. To create a Bokeh plot, you typically follow these steps:\n",
    "\n",
    "Import the necessary modules from Bokeh.\n",
    "Prepare your data.\n",
    "Create a figure object.\n",
    "Add glyphs (visual markers) to the figure to represent your data.\n",
    "Customize the plot as needed (e.g., adding axes, titles, and legends).\n",
    "Show or save the plot."
   ]
  },
  {
   "cell_type": "markdown",
   "id": "d0707e85-4e71-4121-a9bb-1232d5a5323b",
   "metadata": {},
   "source": [
    "Q2. What are glyphs in Bokeh, and how can you add them to a Bokeh plot? Explain with an example.\n",
    "Ans:-\n",
    "\n",
    "Glyphs are visual shapes or markers used to represent data points in Bokeh plots. Examples of glyphs include circles, squares, lines, and patches. You can add glyphs to a Bokeh plot by calling glyph methods on the figure object."
   ]
  },
  {
   "cell_type": "code",
   "execution_count": 1,
   "id": "cb2fb90f-7640-4a82-b31f-32f5bae5e382",
   "metadata": {},
   "outputs": [],
   "source": [
    "from bokeh.plotting import figure, show\n",
    "\n",
    "# Prepare data\n",
    "x = [1, 2, 3, 4, 5]\n",
    "y = [6, 7, 2, 4, 5]\n",
    "\n",
    "# Create a figure object\n",
    "p = figure(title=\"Example Glyphs\")\n",
    "\n",
    "# Add glyphs to the figure\n",
    "p.circle(x, y, size=10, color=\"navy\", alpha=0.5)  # Circle glyph\n",
    "\n",
    "# Show the plot\n",
    "show(p)\n"
   ]
  },
  {
   "cell_type": "code",
   "execution_count": null,
   "id": "fedf2778-e4ff-400a-9397-9137ebf63e07",
   "metadata": {},
   "outputs": [],
   "source": []
  }
 ],
 "metadata": {
  "kernelspec": {
   "display_name": "Python 3 (ipykernel)",
   "language": "python",
   "name": "python3"
  },
  "language_info": {
   "codemirror_mode": {
    "name": "ipython",
    "version": 3
   },
   "file_extension": ".py",
   "mimetype": "text/x-python",
   "name": "python",
   "nbconvert_exporter": "python",
   "pygments_lexer": "ipython3",
   "version": "3.10.8"
  }
 },
 "nbformat": 4,
 "nbformat_minor": 5
}
